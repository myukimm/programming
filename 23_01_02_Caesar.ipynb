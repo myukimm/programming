{
  "nbformat": 4,
  "nbformat_minor": 0,
  "metadata": {
    "colab": {
      "provenance": []
    },
    "kernelspec": {
      "name": "python3",
      "display_name": "Python 3"
    },
    "language_info": {
      "name": "python"
    }
  },
  "cells": [
    {
      "cell_type": "markdown",
      "source": [
        "Question\n",
        "\n",
        "카이사르의 암호는 로마의 장군인 카이사르가 동맨군들과 소통하기 위해 만든 암호인데, 간단한 치환암호의 일종이다. 이 암호는 암호화하고자 하는 내용을 알파벳 별로 일정한 거리만큼 밀어서 다른 알파벳으로 치환하는 방식이다. 예를 들어 알파벳 A가 있을 경우 알파벳에서 3칸 이동한 알파벳 D로 표기할 수 있다. 이 방삭의 경우 다음과 같이 대응되는 치환식을 사용한다.\n",
        "\n",
        "예를 들어, 'ATTACK ON MIDNIGHT' 이라는 문자는 이 치환표에 의해서 \"DWWDFN RQPLGQLJKW'로 치환된다.\n"
      ],
      "metadata": {
        "id": "a6dEDL7hTf5a"
      }
    },
    {
      "cell_type": "code",
      "execution_count": 1,
      "metadata": {
        "colab": {
          "base_uri": "https://localhost:8080/"
        },
        "id": "x9J5766DSj43",
        "outputId": "6702e093-54d8-4054-bc90-180dca320bd6"
      },
      "outputs": [
        {
          "output_type": "stream",
          "name": "stdout",
          "text": [
            "문장을 입력하시오: ATTACK ON MIDNIGHT\n",
            "암호화된 문장 : DWWDFN RQ PLGQLJKW\n"
          ]
        }
      ],
      "source": [
        "import string\n",
        "\n",
        "src_str = string.ascii_uppercase\n",
        "dst_str = src_str[3:] + src_str[:3]\n",
        "\n",
        "def cipher(a):\n",
        "  idx = src_str.index(a)\n",
        "  return dst_str[idx]\n",
        "\n",
        "src = input('문장을 입력하시오: ')\n",
        "print('암호화된 문장 : ', end='')\n",
        "\n",
        "for ch in src:\n",
        "  if ch in src_str:\n",
        "    print(cipher(ch), end='')\n",
        "  else:\n",
        "    print(ch, end='')\n",
        "print()"
      ]
    }
  ]
}